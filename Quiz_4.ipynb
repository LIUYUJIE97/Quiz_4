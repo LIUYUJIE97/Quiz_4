{
 "cells": [
  {
   "cell_type": "markdown",
   "metadata": {},
   "source": [
    "<div class=\"image\">\n",
    "\n",
    "  <img style=\"float: right;\" src=\"https://pku.org.uk/head.png\" width=\"45%\" align=\"right\">\n",
    "      <h4>\n",
    "          <p style=\"font-size:25pt\">UK19B307 AI Analytics</p>\n",
    "          <p style=\"font-size:15pt\">Quiz 4</p>\n",
    "      </h4>\n",
    "<h5>\n",
    "    <p> Peking University</p>\n",
    "    <p> Demonstrable Labs</p>\n",
    "</h5>\n",
    "</div>"
   ]
  },
  {
   "cell_type": "markdown",
   "metadata": {},
   "source": [
    "### Please doule click this block and enter your name / ID:\n",
    "\n",
    "- Name: LIU YUJIE\n",
    "- ID: 1901212616"
   ]
  },
  {
   "cell_type": "code",
   "execution_count": 1,
   "metadata": {
    "collapsed": true
   },
   "outputs": [],
   "source": [
    "import numpy as np\n",
    "import pandas as pd"
   ]
  },
  {
   "cell_type": "markdown",
   "metadata": {},
   "source": [
    "<div class=\"alert alert-warning\">\n",
    "<b>QUESTION 1: </b> \n",
    "\n",
    "1, Define a list: `persons = [ \"John\", \"Marissa\", \"Pete\", \"Dayton\" ]`\n",
    "\n",
    "2, Print the first two elements by slicing the list. The expected output is: `['John', 'Marissa']`\n",
    "</div>"
   ]
  },
  {
   "cell_type": "code",
   "execution_count": 6,
   "metadata": {},
   "outputs": [
    {
     "data": {
      "text/plain": [
       "['John', 'Marissa']"
      ]
     },
     "execution_count": 6,
     "metadata": {},
     "output_type": "execute_result"
    }
   ],
   "source": [
    "persons = [ \"John\", \"Marissa\", \"Pete\", \"Dayton\" ]\n",
    "persons[0:2]"
   ]
  },
  {
   "cell_type": "markdown",
   "metadata": {},
   "source": [
    "<div class=\"alert alert-warning\">\n",
    "<b>QUESTION 2: </b> \n",
    "\n",
    "Using a `while` loop, print integers from range `25` to `70`. The integers should be divisible by 3. The expected output is:\n",
    "```\n",
    "27\n",
    "30\n",
    "33\n",
    "36\n",
    "39\n",
    "42\n",
    "45\n",
    "48\n",
    "51\n",
    "54\n",
    "57\n",
    "60\n",
    "63\n",
    "66\n",
    "69```"
   ]
  },
  {
   "cell_type": "code",
   "execution_count": 9,
   "metadata": {},
   "outputs": [
    {
     "name": "stdout",
     "output_type": "stream",
     "text": [
      "27\n",
      "30\n",
      "33\n",
      "36\n",
      "39\n",
      "42\n",
      "45\n",
      "48\n",
      "51\n",
      "54\n",
      "57\n",
      "60\n",
      "63\n",
      "66\n",
      "69\n"
     ]
    }
   ],
   "source": [
    "i=25\n",
    "while True:\n",
    "    i += 1\n",
    "    if i%3 == 0:\n",
    "        print(i)\n",
    "    if i == 70:\n",
    "        break"
   ]
  },
  {
   "cell_type": "markdown",
   "metadata": {},
   "source": [
    "<div class=\"alert alert-warning\">\n",
    "<b>QUESTION 3: </b> \n",
    "\n",
    "1, Define a list: `list_x = ['7', '1', '2', '5']`\n",
    "    \n",
    "2, Use list comprehension to convert the strings in the list to integers. Print the updated list, the expected output is: `[7, 1, 2, 5]`\n",
    "</div>"
   ]
  },
  {
   "cell_type": "code",
   "execution_count": 15,
   "metadata": {},
   "outputs": [
    {
     "name": "stdout",
     "output_type": "stream",
     "text": [
      "[7, 1, 2, 5]\n"
     ]
    }
   ],
   "source": [
    "list_x = ['7', '1', '2', '5']\n",
    "list_x = [int(i) for i in list_x]\n",
    "print (list_x)"
   ]
  },
  {
   "cell_type": "markdown",
   "metadata": {},
   "source": [
    "<div class=\"alert alert-warning\">\n",
    "\n",
    "<b>QUESTION 4:</b>\n",
    "\n",
    "1, Create a function called `common` that takes two lists as arguments. The function would return a **list** with common characters from the input lists.\n",
    "\n",
    "2, Define two lists:\n",
    "\n",
    "```python\n",
    "list_1 = [1,2,3]\n",
    "list_2 = [2,3,4]\n",
    "```\n",
    "    \n",
    "3, Call the function with the two lists, print the result, the expected output is: \n",
    " \n",
    "```\n",
    "[2, 3]```\n",
    " \n",
    "</div>"
   ]
  },
  {
   "cell_type": "code",
   "execution_count": 24,
   "metadata": {},
   "outputs": [],
   "source": [
    "def common(list_1,list_2):\n",
    "    return list_1 & list_2"
   ]
  },
  {
   "cell_type": "code",
   "execution_count": 26,
   "metadata": {},
   "outputs": [],
   "source": [
    "list_1 = [1,2,3]\n",
    "list_2 = [2,3,4]\n",
    "common(list_1,list_2)"
   ]
  },
  {
   "cell_type": "markdown",
   "metadata": {},
   "source": [
    "<div class=\"alert alert-warning\">\n",
    "<b>QUESTION 5:</b> \n",
    "    \n",
    "1, Define an array: `arr_nums = np.array([1, 3, 5, 7, 9, 11, 13, 15, 17, 19, 21])`\n",
    " \n",
    "2, Calculate the cumulative sum of the array and print the result. The expected output is: `[  1   4   9  16  25  36  49  64  81 100 121]`\n",
    "\n",
    "</div>"
   ]
  },
  {
   "cell_type": "code",
   "execution_count": 31,
   "metadata": {},
   "outputs": [
    {
     "name": "stdout",
     "output_type": "stream",
     "text": [
      "[  1   4   9  16  25  36  49  64  81 100 121]\n"
     ]
    }
   ],
   "source": [
    "arr_nums = np.array([1, 3, 5, 7, 9, 11, 13, 15, 17, 19, 21])\n",
    "print(arr_nums.cumsum())"
   ]
  },
  {
   "cell_type": "markdown",
   "metadata": {},
   "source": [
    "<div class=\"alert alert-warning\">\n",
    "<b>QUESTION 6:</b>\n",
    "  \n",
    "Please fill the gaps in the code below so that it prints all the prime&ast; numbers in range from `2` to `50`.\n",
    "\n",
    "```python\n",
    "for possiblePrime in _______:\n",
    "    isPrime = True\n",
    "    for num in range(2, possiblePrime):\n",
    "        if possiblePrime % num == 0:\n",
    "            isPrime = False \n",
    "    if _______:\n",
    "        print(________)  \n",
    "```\n",
    "    \n",
    "&ast; A prime number has to be a positive integer, which is divisible by exactly two integers ($1$ and itself), also $1$ is not a prime number.\n",
    "\n",
    "The expected output of the code is:\n",
    "```\n",
    "2\n",
    "3\n",
    "5\n",
    "7\n",
    "11\n",
    "13\n",
    "17\n",
    "19\n",
    "23\n",
    "29\n",
    "31\n",
    "37\n",
    "41\n",
    "43\n",
    "47```\n",
    "</div>"
   ]
  },
  {
   "cell_type": "code",
   "execution_count": 32,
   "metadata": {},
   "outputs": [
    {
     "ename": "NameError",
     "evalue": "name 'num' is not defined",
     "output_type": "error",
     "traceback": [
      "\u001b[1;31m---------------------------------------------------------------------------\u001b[0m",
      "\u001b[1;31mNameError\u001b[0m                                 Traceback (most recent call last)",
      "\u001b[1;32m<ipython-input-32-7b307265d862>\u001b[0m in \u001b[0;36m<module>\u001b[1;34m()\u001b[0m\n\u001b[0;32m      4\u001b[0m         \u001b[1;32mif\u001b[0m \u001b[0mpossiblePrime\u001b[0m \u001b[1;33m%\u001b[0m \u001b[0mnum\u001b[0m \u001b[1;33m==\u001b[0m \u001b[1;36m0\u001b[0m\u001b[1;33m:\u001b[0m\u001b[1;33m\u001b[0m\u001b[0m\n\u001b[0;32m      5\u001b[0m             \u001b[0misPrime\u001b[0m \u001b[1;33m=\u001b[0m \u001b[1;32mFalse\u001b[0m\u001b[1;33m\u001b[0m\u001b[0m\n\u001b[1;32m----> 6\u001b[1;33m     \u001b[1;32mif\u001b[0m \u001b[0mnum\u001b[0m\u001b[1;33m>\u001b[0m\u001b[1;36m0\u001b[0m\u001b[1;33m:\u001b[0m\u001b[1;33m\u001b[0m\u001b[0m\n\u001b[0m\u001b[0;32m      7\u001b[0m         \u001b[0mprint\u001b[0m\u001b[1;33m(\u001b[0m\u001b[0mnum\u001b[0m\u001b[1;33m)\u001b[0m\u001b[1;33m\u001b[0m\u001b[0m\n",
      "\u001b[1;31mNameError\u001b[0m: name 'num' is not defined"
     ]
    }
   ],
   "source": [
    "for possiblePrime in range(2,51):\n",
    "    isPrime = True\n",
    "    for num in range(2, possiblePrime):\n",
    "        if possiblePrime % num == 0:\n",
    "            isPrime = False \n",
    "    if num>0:\n",
    "        print(num)"
   ]
  },
  {
   "cell_type": "markdown",
   "metadata": {},
   "source": [
    "<div class=\"alert alert-warning\">\n",
    "<b>QUESTION 7:</b>\n",
    "    \n",
    "1, Define two DataFrames: \n",
    "\n",
    "```python\n",
    "df_1 = pd.DataFrame({'name': ['Jason', 'Tina', 'Jake', 'Amy'],\n",
    "                     'age': [32, 28, 23, 33],\n",
    "                     'TestScore': [70, 92, 88, 65]})\n",
    "df_2 = pd.DataFrame({'name': ['Tim', 'Alice'],\n",
    "                     'age': [21, 33],\n",
    "                     'TestScore': [81, 83]})```\n",
    "    \n",
    "2, Define a new DataFrame called `df_3` which concatenates `df_1` and `df_2`. Display `df_3`, the expected output is:\n",
    "    \n",
    "<img src=\"//i.imgur.com/KYsFGl9.png\" height=\"20%\" width=\"20%\">\n",
    "</div>"
   ]
  },
  {
   "cell_type": "code",
   "execution_count": 33,
   "metadata": {
    "collapsed": true
   },
   "outputs": [],
   "source": [
    "df_1 = pd.DataFrame({'name': ['Jason', 'Tina', 'Jake', 'Amy'],\n",
    "                     'age': [32, 28, 23, 33],\n",
    "                     'TestScore': [70, 92, 88, 65]})\n",
    "df_2 = pd.DataFrame({'name': ['Tim', 'Alice'],\n",
    "                     'age': [21, 33],\n",
    "                     'TestScore': [81, 83]})"
   ]
  },
  {
   "cell_type": "code",
   "execution_count": 37,
   "metadata": {},
   "outputs": [
    {
     "data": {
      "text/html": [
       "<div>\n",
       "<style>\n",
       "    .dataframe thead tr:only-child th {\n",
       "        text-align: right;\n",
       "    }\n",
       "\n",
       "    .dataframe thead th {\n",
       "        text-align: left;\n",
       "    }\n",
       "\n",
       "    .dataframe tbody tr th {\n",
       "        vertical-align: top;\n",
       "    }\n",
       "</style>\n",
       "<table border=\"1\" class=\"dataframe\">\n",
       "  <thead>\n",
       "    <tr style=\"text-align: right;\">\n",
       "      <th></th>\n",
       "      <th>TestScore</th>\n",
       "      <th>age</th>\n",
       "      <th>name</th>\n",
       "    </tr>\n",
       "  </thead>\n",
       "  <tbody>\n",
       "    <tr>\n",
       "      <th>0</th>\n",
       "      <td>70</td>\n",
       "      <td>32</td>\n",
       "      <td>Jason</td>\n",
       "    </tr>\n",
       "    <tr>\n",
       "      <th>1</th>\n",
       "      <td>92</td>\n",
       "      <td>28</td>\n",
       "      <td>Tina</td>\n",
       "    </tr>\n",
       "    <tr>\n",
       "      <th>2</th>\n",
       "      <td>88</td>\n",
       "      <td>23</td>\n",
       "      <td>Jake</td>\n",
       "    </tr>\n",
       "    <tr>\n",
       "      <th>3</th>\n",
       "      <td>65</td>\n",
       "      <td>33</td>\n",
       "      <td>Amy</td>\n",
       "    </tr>\n",
       "    <tr>\n",
       "      <th>4</th>\n",
       "      <td>81</td>\n",
       "      <td>21</td>\n",
       "      <td>Tim</td>\n",
       "    </tr>\n",
       "    <tr>\n",
       "      <th>5</th>\n",
       "      <td>83</td>\n",
       "      <td>33</td>\n",
       "      <td>Alice</td>\n",
       "    </tr>\n",
       "  </tbody>\n",
       "</table>\n",
       "</div>"
      ],
      "text/plain": [
       "   TestScore  age   name\n",
       "0         70   32  Jason\n",
       "1         92   28   Tina\n",
       "2         88   23   Jake\n",
       "3         65   33    Amy\n",
       "4         81   21    Tim\n",
       "5         83   33  Alice"
      ]
     },
     "execution_count": 37,
     "metadata": {},
     "output_type": "execute_result"
    }
   ],
   "source": [
    "df_3 = pd.concat([df_1,df_2],ignore_index=True)\n",
    "df_3"
   ]
  },
  {
   "cell_type": "markdown",
   "metadata": {},
   "source": [
    "<div class=\"alert alert-warning\">\n",
    "<b>QUESTION 8:</b>\n",
    "    \n",
    "Sort the DataFrame `df_3` by column `age`, then by column `TestScore`, both with descending orders. Display the updated DataFrame, the expected output is:\n",
    "\n",
    "<img src=\"//i.imgur.com/5sAfdZV.png\" height=\"20%\" width=\"20%\">\n",
    "\n",
    "</div>"
   ]
  },
  {
   "cell_type": "code",
   "execution_count": 48,
   "metadata": {},
   "outputs": [
    {
     "data": {
      "text/html": [
       "<div>\n",
       "<style>\n",
       "    .dataframe thead tr:only-child th {\n",
       "        text-align: right;\n",
       "    }\n",
       "\n",
       "    .dataframe thead th {\n",
       "        text-align: left;\n",
       "    }\n",
       "\n",
       "    .dataframe tbody tr th {\n",
       "        vertical-align: top;\n",
       "    }\n",
       "</style>\n",
       "<table border=\"1\" class=\"dataframe\">\n",
       "  <thead>\n",
       "    <tr style=\"text-align: right;\">\n",
       "      <th></th>\n",
       "      <th>TestScore</th>\n",
       "      <th>age</th>\n",
       "      <th>name</th>\n",
       "      <th>group</th>\n",
       "    </tr>\n",
       "  </thead>\n",
       "  <tbody>\n",
       "    <tr>\n",
       "      <th>5</th>\n",
       "      <td>83</td>\n",
       "      <td>33</td>\n",
       "      <td>Alice</td>\n",
       "      <td>A</td>\n",
       "    </tr>\n",
       "    <tr>\n",
       "      <th>3</th>\n",
       "      <td>65</td>\n",
       "      <td>33</td>\n",
       "      <td>Amy</td>\n",
       "      <td>A</td>\n",
       "    </tr>\n",
       "    <tr>\n",
       "      <th>0</th>\n",
       "      <td>70</td>\n",
       "      <td>32</td>\n",
       "      <td>Jason</td>\n",
       "      <td>A</td>\n",
       "    </tr>\n",
       "    <tr>\n",
       "      <th>1</th>\n",
       "      <td>92</td>\n",
       "      <td>28</td>\n",
       "      <td>Tina</td>\n",
       "      <td>A</td>\n",
       "    </tr>\n",
       "    <tr>\n",
       "      <th>2</th>\n",
       "      <td>88</td>\n",
       "      <td>23</td>\n",
       "      <td>Jake</td>\n",
       "      <td>A</td>\n",
       "    </tr>\n",
       "    <tr>\n",
       "      <th>4</th>\n",
       "      <td>81</td>\n",
       "      <td>21</td>\n",
       "      <td>Tim</td>\n",
       "      <td>A</td>\n",
       "    </tr>\n",
       "  </tbody>\n",
       "</table>\n",
       "</div>"
      ],
      "text/plain": [
       "   TestScore  age   name group\n",
       "5         83   33  Alice     A\n",
       "3         65   33    Amy     A\n",
       "0         70   32  Jason     A\n",
       "1         92   28   Tina     A\n",
       "2         88   23   Jake     A\n",
       "4         81   21    Tim     A"
      ]
     },
     "execution_count": 48,
     "metadata": {},
     "output_type": "execute_result"
    }
   ],
   "source": [
    "df_3 = df_3.sort_values(['age','TestScore'],ascending=False)\n",
    "df_3"
   ]
  },
  {
   "cell_type": "markdown",
   "metadata": {},
   "source": [
    "<div class=\"alert alert-warning\">\n",
    "<b>QUESTION 9:</b>\n",
    "    \n",
    "Create a new column called `group` in `df_3`, the value in the column is `A` if `age` is lager than 30 and `B` otherwise. Display the new DataFrame, the expected output is: \n",
    "\n",
    "<img src=\"//i.imgur.com/nzbxPbi.png\" height=\"20%\" width=\"20%\">\n",
    "\n",
    "</div>"
   ]
  },
  {
   "cell_type": "code",
   "execution_count": 47,
   "metadata": {},
   "outputs": [
    {
     "ename": "SyntaxError",
     "evalue": "invalid syntax (<ipython-input-47-40f47439cea9>, line 2)",
     "output_type": "error",
     "traceback": [
      "\u001b[1;36m  File \u001b[1;32m\"<ipython-input-47-40f47439cea9>\"\u001b[1;36m, line \u001b[1;32m2\u001b[0m\n\u001b[1;33m    df_3['group']=\"B\" if df_3['age']>30\u001b[0m\n\u001b[1;37m                                       ^\u001b[0m\n\u001b[1;31mSyntaxError\u001b[0m\u001b[1;31m:\u001b[0m invalid syntax\n"
     ]
    }
   ],
   "source": [
    "df_3['group']=\"A\"  \n",
    "df_3['group']=\"B\" if df_3['age']>30\n",
    "df_3"
   ]
  },
  {
   "cell_type": "markdown",
   "metadata": {},
   "source": [
    "<div class=\"alert alert-warning\">\n",
    "<b>QUESTION 10:</b>\n",
    "    \n",
    "Reset the index of `df_3` so that it ranges from 0 to 5. Display the new DataFrame, the expected output is:\n",
    "    \n",
    "<img src=\"//i.imgur.com/Le4KHUu.png\" height=\"20%\" width=\"20%\">    \n",
    "\n",
    "</div>"
   ]
  },
  {
   "cell_type": "code",
   "execution_count": 54,
   "metadata": {},
   "outputs": [
    {
     "ename": "TypeError",
     "evalue": "reset_index() takes from 1 to 6 positional arguments but 7 were given",
     "output_type": "error",
     "traceback": [
      "\u001b[1;31m---------------------------------------------------------------------------\u001b[0m",
      "\u001b[1;31mTypeError\u001b[0m                                 Traceback (most recent call last)",
      "\u001b[1;32m<ipython-input-54-2797b1671fed>\u001b[0m in \u001b[0;36m<module>\u001b[1;34m()\u001b[0m\n\u001b[1;32m----> 1\u001b[1;33m \u001b[0mdf_3\u001b[0m\u001b[1;33m.\u001b[0m\u001b[0mreset_index\u001b[0m\u001b[1;33m(\u001b[0m\u001b[1;34m'0'\u001b[0m\u001b[1;33m,\u001b[0m\u001b[1;34m'1'\u001b[0m\u001b[1;33m,\u001b[0m\u001b[1;34m'2'\u001b[0m\u001b[1;33m,\u001b[0m\u001b[1;34m'3'\u001b[0m\u001b[1;33m,\u001b[0m\u001b[1;34m'4'\u001b[0m\u001b[1;33m,\u001b[0m\u001b[1;34m'5'\u001b[0m\u001b[1;33m)\u001b[0m\u001b[1;33m\u001b[0m\u001b[0m\n\u001b[0m",
      "\u001b[1;31mTypeError\u001b[0m: reset_index() takes from 1 to 6 positional arguments but 7 were given"
     ]
    }
   ],
   "source": [
    "df_3.reset_index('0','1','2','3','4','5')"
   ]
  },
  {
   "cell_type": "markdown",
   "metadata": {},
   "source": [
    "<div class=\"alert alert-warning\">\n",
    "<b>QUESTION 11:</b>\n",
    "    \n",
    "1, Define an array: `arr = np.array([0, 1, 2, 3, 4, 5, 6, 7, 8, 9])`\n",
    "\n",
    "2, Extract all odd numbers from `arr` as a array. Print the result, the expected output is: `[1 3 5 7 9]`\n",
    "</div>"
   ]
  },
  {
   "cell_type": "code",
   "execution_count": 55,
   "metadata": {
    "collapsed": true
   },
   "outputs": [],
   "source": [
    "arr = np.array([0, 1, 2, 3, 4, 5, 6, 7, 8, 9])\n"
   ]
  },
  {
   "cell_type": "markdown",
   "metadata": {},
   "source": [
    "<div class=\"alert alert-warning\">\n",
    "<b>QUESTION 12:</b>\n",
    "    \n",
    "Please fill the gaps in the code below so that the output of it would be `LeafRed`.\n",
    "    \n",
    "```python\n",
    "Types = ['Leaf', 'Fire', 'Water']\n",
    "Colours = ['Green', 'Red', 'Blue']\n",
    "print('______'.format(Colours[1], Types[0]))\n",
    "```\n",
    "\n",
    "</div>"
   ]
  },
  {
   "cell_type": "code",
   "execution_count": 56,
   "metadata": {},
   "outputs": [
    {
     "name": "stdout",
     "output_type": "stream",
     "text": [
      "LeafRed\n"
     ]
    }
   ],
   "source": [
    "Types = ['Leaf', 'Fire', 'Water']\n",
    "Colours = ['Green', 'Red', 'Blue']\n",
    "print('{1}{0}'.format(Colours[1], Types[0]))"
   ]
  },
  {
   "cell_type": "markdown",
   "metadata": {},
   "source": [
    "<div class=\"alert alert-warning\">\n",
    "<b>QUESTION 13:</b>\n",
    "    \n",
    "1, Define an array: `arr = np.arange(24).reshape(6,4)`\n",
    "\n",
    "2, Print the array below by indexing `arr`.\n",
    "\n",
    "```    \n",
    "[[ 9 10]\n",
    " [13 14]]```\n",
    "\n",
    "</div>"
   ]
  },
  {
   "cell_type": "code",
   "execution_count": 59,
   "metadata": {},
   "outputs": [
    {
     "data": {
      "text/plain": [
       "array([[ 9, 10],\n",
       "       [13, 14]])"
      ]
     },
     "execution_count": 59,
     "metadata": {},
     "output_type": "execute_result"
    }
   ],
   "source": [
    "arr = np.arange(24).reshape(6,4)\n",
    "arr[2:4,1:3]"
   ]
  },
  {
   "cell_type": "markdown",
   "metadata": {},
   "source": [
    "<div class=\"alert alert-warning\">\n",
    "<b>QUESTION 14:</b>\n",
    "    \n",
    "1, Define a string: `random_str = 'erdXxorPQjFXXyaxoJQI'`\n",
    "\n",
    "2, Calculate the number of `X` and `x` (upper and lower case letters) in the string and print the result. The expected output is `5`.\n",
    "</div>"
   ]
  },
  {
   "cell_type": "code",
   "execution_count": 64,
   "metadata": {},
   "outputs": [
    {
     "data": {
      "text/plain": [
       "2"
      ]
     },
     "execution_count": 64,
     "metadata": {},
     "output_type": "execute_result"
    }
   ],
   "source": [
    " random_str = 'erdXxorPQjFXXyaxoJQI'\n",
    " random_str.count('x')"
   ]
  },
  {
   "cell_type": "markdown",
   "metadata": {},
   "source": [
    "<div class=\"alert alert-warning\">\n",
    "<b>QUESTION 15: </b> \n",
    "\n",
    "1, Define a DataFrame:\n",
    "\n",
    "```python\n",
    "customer_data = pd.DataFrame(\n",
    "    {'customer_id': [3, 2, 9, 4, 5, 8, 10, 1, 15, 11, 6, 7, 12, 14, 13],\n",
    "     'gender': ['M','F','M','M','F','M','F','F','F','F','F','M','M','M','F'],\n",
    "     'customer_age': [22, 21, 35, 40, 22, 28, 25, 43, 33, 37, 27, 30, 20, 50, 32],\n",
    "     'post_code': ['85711','84623','88282','85732','88200','42610','85790','84600','84686','42699','88211','42671',\n",
    "                  '42677','85723','88296'],\n",
    "     'occupation': ['engineer','librarian','lawyer','scientist','engineer','librarian','artist','engineer','lawyer',\n",
    "                    'artist','engineer','lawyer','librarian','engineer','scientist'],\n",
    "     'salary': [np.nan, 23000, 45000, 80000, np.nan, 25000, 30000, 22000, 60000, 43000, 33000, 38000,\n",
    "                20000, 70000, 45000]})\n",
    "```\n",
    "\n",
    "2, Fill the missing value in column `salary` with the **median**. \n",
    " \n",
    "3, Display the DataFrame, the expected output would be:\n",
    "    \n",
    "<img src=\"//i.imgur.com/U8j3p0A.png\" height=\"40%\" width=\"40%\">\n",
    "</div>"
   ]
  },
  {
   "cell_type": "code",
   "execution_count": 76,
   "metadata": {
    "collapsed": true
   },
   "outputs": [],
   "source": [
    "customer_data = pd.DataFrame(\n",
    "    {'customer_id': [3, 2, 9, 4, 5, 8, 10, 1, 15, 11, 6, 7, 12, 14, 13],\n",
    "     'gender': ['M','F','M','M','F','M','F','F','F','F','F','M','M','M','F'],\n",
    "     'customer_age': [22, 21, 35, 40, 22, 28, 25, 43, 33, 37, 27, 30, 20, 50, 32],\n",
    "     'post_code': ['85711','84623','88282','85732','88200','42610','85790','84600','84686','42699','88211','42671',\n",
    "                  '42677','85723','88296'],\n",
    "     'occupation': ['engineer','librarian','lawyer','scientist','engineer','librarian','artist','engineer','lawyer',\n",
    "                    'artist','engineer','lawyer','librarian','engineer','scientist'],\n",
    "     'salary': [np.nan, 23000, 45000, 80000, np.nan, 25000, 30000, 22000, 60000, 43000, 33000, 38000,\n",
    "                20000, 70000, 45000]}) "
   ]
  },
  {
   "cell_type": "code",
   "execution_count": 77,
   "metadata": {},
   "outputs": [
    {
     "data": {
      "text/html": [
       "<div>\n",
       "<style>\n",
       "    .dataframe thead tr:only-child th {\n",
       "        text-align: right;\n",
       "    }\n",
       "\n",
       "    .dataframe thead th {\n",
       "        text-align: left;\n",
       "    }\n",
       "\n",
       "    .dataframe tbody tr th {\n",
       "        vertical-align: top;\n",
       "    }\n",
       "</style>\n",
       "<table border=\"1\" class=\"dataframe\">\n",
       "  <thead>\n",
       "    <tr style=\"text-align: right;\">\n",
       "      <th></th>\n",
       "      <th>customer_age</th>\n",
       "      <th>customer_id</th>\n",
       "      <th>gender</th>\n",
       "      <th>occupation</th>\n",
       "      <th>post_code</th>\n",
       "      <th>salary</th>\n",
       "    </tr>\n",
       "  </thead>\n",
       "  <tbody>\n",
       "    <tr>\n",
       "      <th>0</th>\n",
       "      <td>22</td>\n",
       "      <td>3</td>\n",
       "      <td>M</td>\n",
       "      <td>engineer</td>\n",
       "      <td>85711</td>\n",
       "      <td>38000.0</td>\n",
       "    </tr>\n",
       "    <tr>\n",
       "      <th>1</th>\n",
       "      <td>21</td>\n",
       "      <td>2</td>\n",
       "      <td>F</td>\n",
       "      <td>librarian</td>\n",
       "      <td>84623</td>\n",
       "      <td>23000.0</td>\n",
       "    </tr>\n",
       "    <tr>\n",
       "      <th>2</th>\n",
       "      <td>35</td>\n",
       "      <td>9</td>\n",
       "      <td>M</td>\n",
       "      <td>lawyer</td>\n",
       "      <td>88282</td>\n",
       "      <td>45000.0</td>\n",
       "    </tr>\n",
       "    <tr>\n",
       "      <th>3</th>\n",
       "      <td>40</td>\n",
       "      <td>4</td>\n",
       "      <td>M</td>\n",
       "      <td>scientist</td>\n",
       "      <td>85732</td>\n",
       "      <td>80000.0</td>\n",
       "    </tr>\n",
       "    <tr>\n",
       "      <th>4</th>\n",
       "      <td>22</td>\n",
       "      <td>5</td>\n",
       "      <td>F</td>\n",
       "      <td>engineer</td>\n",
       "      <td>88200</td>\n",
       "      <td>38000.0</td>\n",
       "    </tr>\n",
       "    <tr>\n",
       "      <th>5</th>\n",
       "      <td>28</td>\n",
       "      <td>8</td>\n",
       "      <td>M</td>\n",
       "      <td>librarian</td>\n",
       "      <td>42610</td>\n",
       "      <td>25000.0</td>\n",
       "    </tr>\n",
       "    <tr>\n",
       "      <th>6</th>\n",
       "      <td>25</td>\n",
       "      <td>10</td>\n",
       "      <td>F</td>\n",
       "      <td>artist</td>\n",
       "      <td>85790</td>\n",
       "      <td>30000.0</td>\n",
       "    </tr>\n",
       "    <tr>\n",
       "      <th>7</th>\n",
       "      <td>43</td>\n",
       "      <td>1</td>\n",
       "      <td>F</td>\n",
       "      <td>engineer</td>\n",
       "      <td>84600</td>\n",
       "      <td>22000.0</td>\n",
       "    </tr>\n",
       "    <tr>\n",
       "      <th>8</th>\n",
       "      <td>33</td>\n",
       "      <td>15</td>\n",
       "      <td>F</td>\n",
       "      <td>lawyer</td>\n",
       "      <td>84686</td>\n",
       "      <td>60000.0</td>\n",
       "    </tr>\n",
       "    <tr>\n",
       "      <th>9</th>\n",
       "      <td>37</td>\n",
       "      <td>11</td>\n",
       "      <td>F</td>\n",
       "      <td>artist</td>\n",
       "      <td>42699</td>\n",
       "      <td>43000.0</td>\n",
       "    </tr>\n",
       "    <tr>\n",
       "      <th>10</th>\n",
       "      <td>27</td>\n",
       "      <td>6</td>\n",
       "      <td>F</td>\n",
       "      <td>engineer</td>\n",
       "      <td>88211</td>\n",
       "      <td>33000.0</td>\n",
       "    </tr>\n",
       "    <tr>\n",
       "      <th>11</th>\n",
       "      <td>30</td>\n",
       "      <td>7</td>\n",
       "      <td>M</td>\n",
       "      <td>lawyer</td>\n",
       "      <td>42671</td>\n",
       "      <td>38000.0</td>\n",
       "    </tr>\n",
       "    <tr>\n",
       "      <th>12</th>\n",
       "      <td>20</td>\n",
       "      <td>12</td>\n",
       "      <td>M</td>\n",
       "      <td>librarian</td>\n",
       "      <td>42677</td>\n",
       "      <td>20000.0</td>\n",
       "    </tr>\n",
       "    <tr>\n",
       "      <th>13</th>\n",
       "      <td>50</td>\n",
       "      <td>14</td>\n",
       "      <td>M</td>\n",
       "      <td>engineer</td>\n",
       "      <td>85723</td>\n",
       "      <td>70000.0</td>\n",
       "    </tr>\n",
       "    <tr>\n",
       "      <th>14</th>\n",
       "      <td>32</td>\n",
       "      <td>13</td>\n",
       "      <td>F</td>\n",
       "      <td>scientist</td>\n",
       "      <td>88296</td>\n",
       "      <td>45000.0</td>\n",
       "    </tr>\n",
       "  </tbody>\n",
       "</table>\n",
       "</div>"
      ],
      "text/plain": [
       "    customer_age  customer_id gender occupation post_code   salary\n",
       "0             22            3      M   engineer     85711  38000.0\n",
       "1             21            2      F  librarian     84623  23000.0\n",
       "2             35            9      M     lawyer     88282  45000.0\n",
       "3             40            4      M  scientist     85732  80000.0\n",
       "4             22            5      F   engineer     88200  38000.0\n",
       "5             28            8      M  librarian     42610  25000.0\n",
       "6             25           10      F     artist     85790  30000.0\n",
       "7             43            1      F   engineer     84600  22000.0\n",
       "8             33           15      F     lawyer     84686  60000.0\n",
       "9             37           11      F     artist     42699  43000.0\n",
       "10            27            6      F   engineer     88211  33000.0\n",
       "11            30            7      M     lawyer     42671  38000.0\n",
       "12            20           12      M  librarian     42677  20000.0\n",
       "13            50           14      M   engineer     85723  70000.0\n",
       "14            32           13      F  scientist     88296  45000.0"
      ]
     },
     "execution_count": 77,
     "metadata": {},
     "output_type": "execute_result"
    }
   ],
   "source": [
    "customer_data['salary'] = customer_data['salary'].fillna(customer_data['salary'].median())\n",
    "customer_data"
   ]
  },
  {
   "cell_type": "markdown",
   "metadata": {},
   "source": [
    "<div class=\"alert alert-warning\">\n",
    "<b>QUESTION 16: </b> \n",
    "\n",
    "1, Sort the DataFrame `customer_data` by column `customer_id` with ascending order. Then set the column `customer_id` as the index column. \n",
    "\n",
    "2, Display the **updated** DataFrame `customer_data`, the expected output would be:\n",
    "    \n",
    "<img src=\"//i.imgur.com/g4svghT.png\" height=\"40%\" width=\"40%\">\n",
    "\n",
    "</div>"
   ]
  },
  {
   "cell_type": "code",
   "execution_count": 78,
   "metadata": {},
   "outputs": [
    {
     "data": {
      "text/html": [
       "<div>\n",
       "<style>\n",
       "    .dataframe thead tr:only-child th {\n",
       "        text-align: right;\n",
       "    }\n",
       "\n",
       "    .dataframe thead th {\n",
       "        text-align: left;\n",
       "    }\n",
       "\n",
       "    .dataframe tbody tr th {\n",
       "        vertical-align: top;\n",
       "    }\n",
       "</style>\n",
       "<table border=\"1\" class=\"dataframe\">\n",
       "  <thead>\n",
       "    <tr style=\"text-align: right;\">\n",
       "      <th></th>\n",
       "      <th>customer_age</th>\n",
       "      <th>gender</th>\n",
       "      <th>occupation</th>\n",
       "      <th>post_code</th>\n",
       "      <th>salary</th>\n",
       "    </tr>\n",
       "    <tr>\n",
       "      <th>customer_id</th>\n",
       "      <th></th>\n",
       "      <th></th>\n",
       "      <th></th>\n",
       "      <th></th>\n",
       "      <th></th>\n",
       "    </tr>\n",
       "  </thead>\n",
       "  <tbody>\n",
       "    <tr>\n",
       "      <th>1</th>\n",
       "      <td>43</td>\n",
       "      <td>F</td>\n",
       "      <td>engineer</td>\n",
       "      <td>84600</td>\n",
       "      <td>22000.0</td>\n",
       "    </tr>\n",
       "    <tr>\n",
       "      <th>2</th>\n",
       "      <td>21</td>\n",
       "      <td>F</td>\n",
       "      <td>librarian</td>\n",
       "      <td>84623</td>\n",
       "      <td>23000.0</td>\n",
       "    </tr>\n",
       "    <tr>\n",
       "      <th>3</th>\n",
       "      <td>22</td>\n",
       "      <td>M</td>\n",
       "      <td>engineer</td>\n",
       "      <td>85711</td>\n",
       "      <td>38000.0</td>\n",
       "    </tr>\n",
       "    <tr>\n",
       "      <th>4</th>\n",
       "      <td>40</td>\n",
       "      <td>M</td>\n",
       "      <td>scientist</td>\n",
       "      <td>85732</td>\n",
       "      <td>80000.0</td>\n",
       "    </tr>\n",
       "    <tr>\n",
       "      <th>5</th>\n",
       "      <td>22</td>\n",
       "      <td>F</td>\n",
       "      <td>engineer</td>\n",
       "      <td>88200</td>\n",
       "      <td>38000.0</td>\n",
       "    </tr>\n",
       "    <tr>\n",
       "      <th>6</th>\n",
       "      <td>27</td>\n",
       "      <td>F</td>\n",
       "      <td>engineer</td>\n",
       "      <td>88211</td>\n",
       "      <td>33000.0</td>\n",
       "    </tr>\n",
       "    <tr>\n",
       "      <th>7</th>\n",
       "      <td>30</td>\n",
       "      <td>M</td>\n",
       "      <td>lawyer</td>\n",
       "      <td>42671</td>\n",
       "      <td>38000.0</td>\n",
       "    </tr>\n",
       "    <tr>\n",
       "      <th>8</th>\n",
       "      <td>28</td>\n",
       "      <td>M</td>\n",
       "      <td>librarian</td>\n",
       "      <td>42610</td>\n",
       "      <td>25000.0</td>\n",
       "    </tr>\n",
       "    <tr>\n",
       "      <th>9</th>\n",
       "      <td>35</td>\n",
       "      <td>M</td>\n",
       "      <td>lawyer</td>\n",
       "      <td>88282</td>\n",
       "      <td>45000.0</td>\n",
       "    </tr>\n",
       "    <tr>\n",
       "      <th>10</th>\n",
       "      <td>25</td>\n",
       "      <td>F</td>\n",
       "      <td>artist</td>\n",
       "      <td>85790</td>\n",
       "      <td>30000.0</td>\n",
       "    </tr>\n",
       "    <tr>\n",
       "      <th>11</th>\n",
       "      <td>37</td>\n",
       "      <td>F</td>\n",
       "      <td>artist</td>\n",
       "      <td>42699</td>\n",
       "      <td>43000.0</td>\n",
       "    </tr>\n",
       "    <tr>\n",
       "      <th>12</th>\n",
       "      <td>20</td>\n",
       "      <td>M</td>\n",
       "      <td>librarian</td>\n",
       "      <td>42677</td>\n",
       "      <td>20000.0</td>\n",
       "    </tr>\n",
       "    <tr>\n",
       "      <th>13</th>\n",
       "      <td>32</td>\n",
       "      <td>F</td>\n",
       "      <td>scientist</td>\n",
       "      <td>88296</td>\n",
       "      <td>45000.0</td>\n",
       "    </tr>\n",
       "    <tr>\n",
       "      <th>14</th>\n",
       "      <td>50</td>\n",
       "      <td>M</td>\n",
       "      <td>engineer</td>\n",
       "      <td>85723</td>\n",
       "      <td>70000.0</td>\n",
       "    </tr>\n",
       "    <tr>\n",
       "      <th>15</th>\n",
       "      <td>33</td>\n",
       "      <td>F</td>\n",
       "      <td>lawyer</td>\n",
       "      <td>84686</td>\n",
       "      <td>60000.0</td>\n",
       "    </tr>\n",
       "  </tbody>\n",
       "</table>\n",
       "</div>"
      ],
      "text/plain": [
       "             customer_age gender occupation post_code   salary\n",
       "customer_id                                                   \n",
       "1                      43      F   engineer     84600  22000.0\n",
       "2                      21      F  librarian     84623  23000.0\n",
       "3                      22      M   engineer     85711  38000.0\n",
       "4                      40      M  scientist     85732  80000.0\n",
       "5                      22      F   engineer     88200  38000.0\n",
       "6                      27      F   engineer     88211  33000.0\n",
       "7                      30      M     lawyer     42671  38000.0\n",
       "8                      28      M  librarian     42610  25000.0\n",
       "9                      35      M     lawyer     88282  45000.0\n",
       "10                     25      F     artist     85790  30000.0\n",
       "11                     37      F     artist     42699  43000.0\n",
       "12                     20      M  librarian     42677  20000.0\n",
       "13                     32      F  scientist     88296  45000.0\n",
       "14                     50      M   engineer     85723  70000.0\n",
       "15                     33      F     lawyer     84686  60000.0"
      ]
     },
     "execution_count": 78,
     "metadata": {},
     "output_type": "execute_result"
    }
   ],
   "source": [
    "customer_data.sort_values('customer_id', ascending=True, inplace=True)\n",
    "customer_data.set_index('customer_id', inplace=True)\n",
    "customer_data"
   ]
  },
  {
   "cell_type": "markdown",
   "metadata": {},
   "source": [
    "<div class=\"alert alert-warning\">\n",
    "<b>QUESTION 17:</b>\n",
    "\n",
    "1, Add `2` to each value in column `customer_age` from DataFrame `customer_data`.\n",
    "\n",
    "2, Display the **updated** DataFrame `customer_data`, the expected output would be:\n",
    "    \n",
    "<img src=\"//i.imgur.com/LeBlTzE.png\" height=\"40%\" width=\"40%\">\n",
    "\n",
    "</div>"
   ]
  },
  {
   "cell_type": "code",
   "execution_count": 79,
   "metadata": {},
   "outputs": [
    {
     "data": {
      "text/html": [
       "<div>\n",
       "<style>\n",
       "    .dataframe thead tr:only-child th {\n",
       "        text-align: right;\n",
       "    }\n",
       "\n",
       "    .dataframe thead th {\n",
       "        text-align: left;\n",
       "    }\n",
       "\n",
       "    .dataframe tbody tr th {\n",
       "        vertical-align: top;\n",
       "    }\n",
       "</style>\n",
       "<table border=\"1\" class=\"dataframe\">\n",
       "  <thead>\n",
       "    <tr style=\"text-align: right;\">\n",
       "      <th></th>\n",
       "      <th>customer_age</th>\n",
       "      <th>gender</th>\n",
       "      <th>occupation</th>\n",
       "      <th>post_code</th>\n",
       "      <th>salary</th>\n",
       "    </tr>\n",
       "    <tr>\n",
       "      <th>customer_id</th>\n",
       "      <th></th>\n",
       "      <th></th>\n",
       "      <th></th>\n",
       "      <th></th>\n",
       "      <th></th>\n",
       "    </tr>\n",
       "  </thead>\n",
       "  <tbody>\n",
       "    <tr>\n",
       "      <th>1</th>\n",
       "      <td>43</td>\n",
       "      <td>F</td>\n",
       "      <td>engineer</td>\n",
       "      <td>84600</td>\n",
       "      <td>22000.0</td>\n",
       "    </tr>\n",
       "    <tr>\n",
       "      <th>2</th>\n",
       "      <td>21</td>\n",
       "      <td>F</td>\n",
       "      <td>librarian</td>\n",
       "      <td>84623</td>\n",
       "      <td>23000.0</td>\n",
       "    </tr>\n",
       "    <tr>\n",
       "      <th>3</th>\n",
       "      <td>22</td>\n",
       "      <td>M</td>\n",
       "      <td>engineer</td>\n",
       "      <td>85711</td>\n",
       "      <td>38000.0</td>\n",
       "    </tr>\n",
       "    <tr>\n",
       "      <th>4</th>\n",
       "      <td>40</td>\n",
       "      <td>M</td>\n",
       "      <td>scientist</td>\n",
       "      <td>85732</td>\n",
       "      <td>80000.0</td>\n",
       "    </tr>\n",
       "    <tr>\n",
       "      <th>5</th>\n",
       "      <td>22</td>\n",
       "      <td>F</td>\n",
       "      <td>engineer</td>\n",
       "      <td>88200</td>\n",
       "      <td>38000.0</td>\n",
       "    </tr>\n",
       "    <tr>\n",
       "      <th>6</th>\n",
       "      <td>27</td>\n",
       "      <td>F</td>\n",
       "      <td>engineer</td>\n",
       "      <td>88211</td>\n",
       "      <td>33000.0</td>\n",
       "    </tr>\n",
       "    <tr>\n",
       "      <th>7</th>\n",
       "      <td>30</td>\n",
       "      <td>M</td>\n",
       "      <td>lawyer</td>\n",
       "      <td>42671</td>\n",
       "      <td>38000.0</td>\n",
       "    </tr>\n",
       "    <tr>\n",
       "      <th>8</th>\n",
       "      <td>28</td>\n",
       "      <td>M</td>\n",
       "      <td>librarian</td>\n",
       "      <td>42610</td>\n",
       "      <td>25000.0</td>\n",
       "    </tr>\n",
       "    <tr>\n",
       "      <th>9</th>\n",
       "      <td>35</td>\n",
       "      <td>M</td>\n",
       "      <td>lawyer</td>\n",
       "      <td>88282</td>\n",
       "      <td>45000.0</td>\n",
       "    </tr>\n",
       "    <tr>\n",
       "      <th>10</th>\n",
       "      <td>25</td>\n",
       "      <td>F</td>\n",
       "      <td>artist</td>\n",
       "      <td>85790</td>\n",
       "      <td>30000.0</td>\n",
       "    </tr>\n",
       "    <tr>\n",
       "      <th>11</th>\n",
       "      <td>37</td>\n",
       "      <td>F</td>\n",
       "      <td>artist</td>\n",
       "      <td>42699</td>\n",
       "      <td>43000.0</td>\n",
       "    </tr>\n",
       "    <tr>\n",
       "      <th>12</th>\n",
       "      <td>20</td>\n",
       "      <td>M</td>\n",
       "      <td>librarian</td>\n",
       "      <td>42677</td>\n",
       "      <td>20000.0</td>\n",
       "    </tr>\n",
       "    <tr>\n",
       "      <th>13</th>\n",
       "      <td>32</td>\n",
       "      <td>F</td>\n",
       "      <td>scientist</td>\n",
       "      <td>88296</td>\n",
       "      <td>45000.0</td>\n",
       "    </tr>\n",
       "    <tr>\n",
       "      <th>14</th>\n",
       "      <td>50</td>\n",
       "      <td>M</td>\n",
       "      <td>engineer</td>\n",
       "      <td>85723</td>\n",
       "      <td>70000.0</td>\n",
       "    </tr>\n",
       "    <tr>\n",
       "      <th>15</th>\n",
       "      <td>33</td>\n",
       "      <td>F</td>\n",
       "      <td>lawyer</td>\n",
       "      <td>84686</td>\n",
       "      <td>60000.0</td>\n",
       "    </tr>\n",
       "  </tbody>\n",
       "</table>\n",
       "</div>"
      ],
      "text/plain": [
       "             customer_age gender occupation post_code   salary\n",
       "customer_id                                                   \n",
       "1                      43      F   engineer     84600  22000.0\n",
       "2                      21      F  librarian     84623  23000.0\n",
       "3                      22      M   engineer     85711  38000.0\n",
       "4                      40      M  scientist     85732  80000.0\n",
       "5                      22      F   engineer     88200  38000.0\n",
       "6                      27      F   engineer     88211  33000.0\n",
       "7                      30      M     lawyer     42671  38000.0\n",
       "8                      28      M  librarian     42610  25000.0\n",
       "9                      35      M     lawyer     88282  45000.0\n",
       "10                     25      F     artist     85790  30000.0\n",
       "11                     37      F     artist     42699  43000.0\n",
       "12                     20      M  librarian     42677  20000.0\n",
       "13                     32      F  scientist     88296  45000.0\n",
       "14                     50      M   engineer     85723  70000.0\n",
       "15                     33      F     lawyer     84686  60000.0"
      ]
     },
     "execution_count": 79,
     "metadata": {},
     "output_type": "execute_result"
    }
   ],
   "source": [
    "customer_data['customer_age']+2\n",
    "customer_data"
   ]
  },
  {
   "cell_type": "markdown",
   "metadata": {},
   "source": [
    "<div class=\"alert alert-warning\">\n",
    "<b>QUESTION 18: </b> \n",
    "\n",
    "Display the matching rows in DataFrame `customer_data` where `post_code` start with `88`, the expected output would be:\n",
    "    \n",
    "<img src=\"//i.imgur.com/Kok6yyu.png\" height=\"40%\" width=\"40%\">\n",
    "\n",
    "</div>\n",
    "</div>"
   ]
  },
  {
   "cell_type": "code",
   "execution_count": 84,
   "metadata": {},
   "outputs": [
    {
     "ename": "NameError",
     "evalue": "name 'post_code' is not defined",
     "output_type": "error",
     "traceback": [
      "\u001b[1;31m---------------------------------------------------------------------------\u001b[0m",
      "\u001b[1;31mNameError\u001b[0m                                 Traceback (most recent call last)",
      "\u001b[1;32m<ipython-input-84-23a38ad1dafb>\u001b[0m in \u001b[0;36m<module>\u001b[1;34m()\u001b[0m\n\u001b[1;32m----> 1\u001b[1;33m \u001b[0mcustomer_data\u001b[0m\u001b[1;33m.\u001b[0m\u001b[0mquery\u001b[0m\u001b[1;33m(\u001b[0m\u001b[0mcustomer_data\u001b[0m\u001b[1;33m[\u001b[0m\u001b[0mpost_code\u001b[0m\u001b[1;33m]\u001b[0m\u001b[1;33m.\u001b[0m\u001b[0mstartwith\u001b[0m \u001b[1;33m(\u001b[0m\u001b[1;34m\"88\"\u001b[0m\u001b[1;33m)\u001b[0m\u001b[1;33m)\u001b[0m\u001b[1;33m\u001b[0m\u001b[0m\n\u001b[0m",
      "\u001b[1;31mNameError\u001b[0m: name 'post_code' is not defined"
     ]
    }
   ],
   "source": [
    "customer_data.query(customer_data[post_code].startwith (\"88\"))"
   ]
  },
  {
   "cell_type": "markdown",
   "metadata": {},
   "source": [
    "<div class=\"alert alert-warning\">\n",
    "<b>QUESTION 19: </b> \n",
    "\n",
    "1, Calculate the average customer age for each occupation based on DataFrame `customer_data`. \n",
    "\n",
    "2, Create a DataFrame called `occupation_age` which has index `occupation` and column `customer_age` with the result from step 1. Display the DataFrame `occupation_age`, the expected output would be:\n",
    "    \n",
    "<img src=\"//i.imgur.com/ynMBXbS.png\" height=\"20%\" width=\"20%\">\n",
    "</div>"
   ]
  },
  {
   "cell_type": "code",
   "execution_count": null,
   "metadata": {
    "collapsed": true
   },
   "outputs": [],
   "source": []
  },
  {
   "cell_type": "markdown",
   "metadata": {},
   "source": [
    "<div class=\"alert alert-warning\">\n",
    "<b>QUESTION 20:</b>\n",
    "\n",
    "1, Create a new DataFrame called `customer_data_2` which contains rows from DataFrame `customer_data` where `customer_age` are larger or equal to 30.\n",
    "\n",
    "2, Display the DataFrame `customer_data_2`, the expected output would be:\n",
    "    \n",
    "<img src=\"https://i.imgur.com/GdNsqyC.png\" height=\"40%\" width=\"40%\">\n",
    "</div>"
   ]
  },
  {
   "cell_type": "code",
   "execution_count": null,
   "metadata": {
    "collapsed": true
   },
   "outputs": [],
   "source": []
  }
 ],
 "metadata": {
  "kernelspec": {
   "display_name": "Python 3",
   "language": "python",
   "name": "python3"
  },
  "language_info": {
   "codemirror_mode": {
    "name": "ipython",
    "version": 3
   },
   "file_extension": ".py",
   "mimetype": "text/x-python",
   "name": "python",
   "nbconvert_exporter": "python",
   "pygments_lexer": "ipython3",
   "version": "3.6.3"
  }
 },
 "nbformat": 4,
 "nbformat_minor": 2
}
